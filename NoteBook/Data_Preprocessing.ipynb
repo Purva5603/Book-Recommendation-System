{
 "cells": [
  {
   "cell_type": "code",
   "execution_count": 6,
   "id": "1c1b8741-c77a-4e1a-bba6-e1e7e19843c9",
   "metadata": {},
   "outputs": [
    {
     "name": "stderr",
     "output_type": "stream",
     "text": [
      "C:\\Users\\putva\\AppData\\Local\\Temp\\ipykernel_4212\\4254434714.py:13: DtypeWarning: Columns (3) have mixed types. Specify dtype option on import or set low_memory=False.\n",
      "  books = pd.read_csv(os.path.join(RAW_DATA_FOLDER, \"Books.csv\"))\n",
      "C:\\Users\\putva\\AppData\\Local\\Temp\\ipykernel_4212\\4254434714.py:21: FutureWarning: A value is trying to be set on a copy of a DataFrame or Series through chained assignment using an inplace method.\n",
      "The behavior will change in pandas 3.0. This inplace method will never work because the intermediate object on which we are setting values always behaves as a copy.\n",
      "\n",
      "For example, when doing 'df[col].method(value, inplace=True)', try using 'df.method({col: value}, inplace=True)' or df[col] = df[col].method(value) instead, to perform the operation inplace on the original object.\n",
      "\n",
      "\n",
      "  users[\"Age\"].fillna(users[\"Age\"].median(), inplace=True)\n"
     ]
    },
    {
     "name": "stdout",
     "output_type": "stream",
     "text": [
      "Data preprocessing completed. Cleaned files are saved in Dataset/processed folder.\n"
     ]
    }
   ],
   "source": [
    "import pandas as pd\n",
    "import os\n",
    "\n",
    "# Define file paths\n",
    "DATASET_FOLDER = r\"C:\\Users\\putva\\OneDrive\\Desktop\\Book Recommader\\Dataset\"\n",
    "RAW_DATA_FOLDER = os.path.join(DATASET_FOLDER, \"raw\")\n",
    "PROCESSED_DATA_FOLDER = os.path.join(DATASET_FOLDER, \"processed\")\n",
    "\n",
    "# Ensure processed folder exists\n",
    "os.makedirs(PROCESSED_DATA_FOLDER, exist_ok=True)\n",
    "\n",
    "# Load datasets\n",
    "books = pd.read_csv(os.path.join(RAW_DATA_FOLDER, \"Books.csv\"))\n",
    "users = pd.read_csv(os.path.join(RAW_DATA_FOLDER, \"Users.csv\"))\n",
    "ratings = pd.read_csv(os.path.join(RAW_DATA_FOLDER, \"Ratings.csv\"))\n",
    "\n",
    "# --- DATA CLEANING ---\n",
    "\n",
    "# Handling missing values\n",
    "books.dropna(subset=[\"Book-Title\", \"Book-Author\"], inplace=True)\n",
    "users[\"Age\"].fillna(users[\"Age\"].median(), inplace=True)\n",
    "ratings.drop_duplicates(inplace=True)\n",
    "\n",
    "# Convert 'Year-Of-Publication' to numeric\n",
    "books[\"Year-Of-Publication\"] = pd.to_numeric(books[\"Year-Of-Publication\"], errors='coerce')\n",
    "books.dropna(subset=[\"Year-Of-Publication\"], inplace=True)\n",
    "books[\"Year-Of-Publication\"] = books[\"Year-Of-Publication\"].astype(int)\n",
    "\n",
    "# Remove outliers in Age (assuming valid ages are between 10 and 100)\n",
    "users = users[(users[\"Age\"] >= 10) & (users[\"Age\"] <= 100)]\n",
    "\n",
    "# Create new feature: Age of the book\n",
    "books[\"Age-of-Book\"] = 2025 - books[\"Year-Of-Publication\"]\n",
    "\n",
    "# Merge ratings count with books\n",
    "df_ratings_count = ratings.groupby(\"ISBN\").size().reset_index(name=\"Num-Ratings\")\n",
    "books = books.merge(df_ratings_count, on=\"ISBN\", how=\"left\")\n",
    "\n",
    "# --- SAVE CLEANED DATA ---\n",
    "books.to_csv(os.path.join(PROCESSED_DATA_FOLDER, \"books_cleaned.csv\"), index=False)\n",
    "users.to_csv(os.path.join(PROCESSED_DATA_FOLDER, \"users_cleaned.csv\"), index=False)\n",
    "ratings.to_csv(os.path.join(PROCESSED_DATA_FOLDER, \"ratings_cleaned.csv\"), index=False)\n",
    "\n",
    "print(\"Data preprocessing completed. Cleaned files are saved in Dataset/processed folder.\")\n"
   ]
  },
  {
   "cell_type": "code",
   "execution_count": null,
   "id": "e2bd763e-4333-4fcf-bf17-f1798bc5ecd3",
   "metadata": {},
   "outputs": [],
   "source": []
  }
 ],
 "metadata": {
  "kernelspec": {
   "display_name": "Python 3.10 (env_310)",
   "language": "python",
   "name": "env_310"
  },
  "language_info": {
   "codemirror_mode": {
    "name": "ipython",
    "version": 3
   },
   "file_extension": ".py",
   "mimetype": "text/x-python",
   "name": "python",
   "nbconvert_exporter": "python",
   "pygments_lexer": "ipython3",
   "version": "3.10.11"
  }
 },
 "nbformat": 4,
 "nbformat_minor": 5
}
